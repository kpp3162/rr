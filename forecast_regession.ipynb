{
 "cells": [
  {
   "cell_type": "code",
   "execution_count": 75,
   "metadata": {
    "scrolled": false
   },
   "outputs": [
    {
     "output_type": "stream",
     "name": "stdout",
     "text": [
      "     project_id  developer_id  district_id  \\\n0          4570          2895         1014   \n1          2564         11572         1021   \n2          2560          6032         1030   \n3          1035           818         1022   \n4          4943         11066         1035   \n..          ...           ...          ...   \n596        5550         11515         1026   \n597        5582         20402         1039   \n598        5612        137634         1017   \n599        5653          5618         1038   \n600        5708        140565         1029   \n\n                              project_name_th  \\\n0                         อิสสระ @42 สุขุมวิท   \n1            เดอะ ลิ้งค์ แอดวานซ์ สุขุมวิท 50   \n2                เอส คอนโดมิเนียม สุขุมวิท 50   \n3                      เอ สเปซ มี สุขุมวิท 77   \n4                                DLV Thonglor   \n..                                        ...   \n596               เอส เจ เรสซิเดนซ์ บางแวก 63   \n597                      เคนซิงตัน พหลฯ-เกษตร   \n598                               แอชตัน สีลม   \n599  ไอดีโอ โมบิ บางซื่อ-แกรนด์ อินเตอร์เชนจ์   \n600                              ฟินน์ อารีย์   \n\n                         project_name_en  unittype  province_id       lat  \\\n0                  Issara @ 42 Sukhumvit         3           10  13.79141   \n1                       The Link Advance         3           10  13.65848   \n2                   S Condo Sukhumvit 50         3           10  13.82571   \n3                A Space Me Sukhumvit 77         3           10  13.70896   \n4                           DLV THONGLOR         3           10  13.67371   \n..                                   ...       ...          ...       ...   \n596             SJ Residence Bangwaek 63         3           10  13.75545   \n597              Kensington Phahol-Kaset         3           10  13.74753   \n598                         Ashton Silom         3           10  13.74845   \n599  Ideo Mobi Bangsue-Grand Interchange         3           10  13.82645   \n600                            Fynn Aree         3           10  13.83132   \n\n          lon  project_land_rai  ...  Unit      15H1      15H2      16H1  \\\n0    100.5488            3.6925  ...  31.0  135243.0  137731.0  144022.0   \n1    100.4285           16.4000  ...  24.0   34798.0   34289.0   33352.0   \n2    100.5453            7.5000  ...  31.0   30599.0   30343.0   31210.0   \n3    100.4517           26.4225  ...  31.0   46512.0   42544.0   48656.0   \n4    100.4586            9.5250  ...  23.0       NaN       NaN   60588.0   \n..        ...               ...  ...   ...       ...       ...       ...   \n596  100.5648            1.6650  ...   NaN       NaN       NaN       NaN   \n597  100.5583            1.2200  ...   NaN       NaN       NaN       NaN   \n598  100.5869            0.8100  ...   NaN       NaN       NaN       NaN   \n599  100.5917            3.8375  ...   NaN       NaN       NaN       NaN   \n600  100.5249            4.5050  ...   NaN   97000.0       NaN       NaN   \n\n         16H2      17H1      17H2  Bedroom  Bathroom  Price2020  \n0    145677.0  151650.0  152477.0      1.0       1.0   425000.0  \n1     33289.0   34637.0   38898.0      1.0       1.0   820000.0  \n2     33669.0   36639.0   34938.0      1.0       1.0   980000.0  \n3     46445.0   47015.0   44430.0      1.0       1.0   990000.0  \n4     55539.0   53325.0   53619.0      1.0       1.0   999900.0  \n..        ...       ...       ...      ...       ...        ...  \n596       NaN       NaN       NaN      NaN       NaN        NaN  \n597       NaN       NaN       NaN      NaN       NaN        NaN  \n598       NaN       NaN       NaN      NaN       NaN        NaN  \n599       NaN       NaN       NaN      NaN       NaN        NaN  \n600       NaN       NaN       NaN      NaN       NaN        NaN  \n\n[601 rows x 24 columns]\n"
     ]
    }
   ],
   "source": [
    "import pandas\n",
    "import numpy as np\n",
    "from io import StringIO\n",
    "import pickle\n",
    "from fastapi import FastAPI\n",
    "\n",
    "dataset = pandas.read_csv(\"Final_dataset.csv\")\n",
    "print(dataset)"
   ]
  },
  {
   "cell_type": "code",
   "execution_count": 76,
   "metadata": {
    "scrolled": true
   },
   "outputs": [
    {
     "output_type": "execute_result",
     "data": {
      "text/plain": [
       "     project_id  developer_id  district_id  \\\n",
       "0          4570          2895         1014   \n",
       "1          2564         11572         1021   \n",
       "2          2560          6032         1030   \n",
       "3          1035           818         1022   \n",
       "4          4943         11066         1035   \n",
       "..          ...           ...          ...   \n",
       "596        5550         11515         1026   \n",
       "597        5582         20402         1039   \n",
       "598        5612        137634         1017   \n",
       "599        5653          5618         1038   \n",
       "600        5708        140565         1029   \n",
       "\n",
       "                              project_name_th  \\\n",
       "0                         อิสสระ @42 สุขุมวิท   \n",
       "1            เดอะ ลิ้งค์ แอดวานซ์ สุขุมวิท 50   \n",
       "2                เอส คอนโดมิเนียม สุขุมวิท 50   \n",
       "3                      เอ สเปซ มี สุขุมวิท 77   \n",
       "4                                DLV Thonglor   \n",
       "..                                        ...   \n",
       "596               เอส เจ เรสซิเดนซ์ บางแวก 63   \n",
       "597                      เคนซิงตัน พหลฯ-เกษตร   \n",
       "598                               แอชตัน สีลม   \n",
       "599  ไอดีโอ โมบิ บางซื่อ-แกรนด์ อินเตอร์เชนจ์   \n",
       "600                              ฟินน์ อารีย์   \n",
       "\n",
       "                         project_name_en  unittype  province_id       lat  \\\n",
       "0                  Issara @ 42 Sukhumvit         3           10  13.79141   \n",
       "1                       The Link Advance         3           10  13.65848   \n",
       "2                   S Condo Sukhumvit 50         3           10  13.82571   \n",
       "3                A Space Me Sukhumvit 77         3           10  13.70896   \n",
       "4                           DLV THONGLOR         3           10  13.67371   \n",
       "..                                   ...       ...          ...       ...   \n",
       "596             SJ Residence Bangwaek 63         3           10  13.75545   \n",
       "597              Kensington Phahol-Kaset         3           10  13.74753   \n",
       "598                         Ashton Silom         3           10  13.74845   \n",
       "599  Ideo Mobi Bangsue-Grand Interchange         3           10  13.82645   \n",
       "600                            Fynn Aree         3           10  13.83132   \n",
       "\n",
       "          lon  project_land_rai  ...      16H1      16H2      17H1      17H2  \\\n",
       "0    100.5488            3.6925  ...  144022.0  145677.0  151650.0  152477.0   \n",
       "1    100.4285           16.4000  ...   33352.0   33289.0   34637.0   38898.0   \n",
       "2    100.5453            7.5000  ...   31210.0   33669.0   36639.0   34938.0   \n",
       "3    100.4517           26.4225  ...   48656.0   46445.0   47015.0   44430.0   \n",
       "4    100.4586            9.5250  ...   60588.0   55539.0   53325.0   53619.0   \n",
       "..        ...               ...  ...       ...       ...       ...       ...   \n",
       "596  100.5648            1.6650  ...       NaN       NaN       NaN       NaN   \n",
       "597  100.5583            1.2200  ...       NaN       NaN       NaN       NaN   \n",
       "598  100.5869            0.8100  ...       NaN       NaN       NaN       NaN   \n",
       "599  100.5917            3.8375  ...       NaN       NaN       NaN       NaN   \n",
       "600  100.5249            4.5050  ...       NaN       NaN       NaN       NaN   \n",
       "\n",
       "     Bedroom  Bathroom  Price2020  project_status_0  project_status_1  \\\n",
       "0        1.0       1.0   425000.0                 0                 1   \n",
       "1        1.0       1.0   820000.0                 1                 0   \n",
       "2        1.0       1.0   980000.0                 1                 0   \n",
       "3        1.0       1.0   990000.0                 0                 1   \n",
       "4        1.0       1.0   999900.0                 1                 0   \n",
       "..       ...       ...        ...               ...               ...   \n",
       "596      NaN       NaN        NaN                 0                 1   \n",
       "597      NaN       NaN        NaN                 1                 0   \n",
       "598      NaN       NaN        NaN                 1                 0   \n",
       "599      NaN       NaN        NaN                 1                 0   \n",
       "600      NaN       NaN        NaN                 0                 0   \n",
       "\n",
       "     project_status_2  \n",
       "0                   0  \n",
       "1                   0  \n",
       "2                   0  \n",
       "3                   0  \n",
       "4                   0  \n",
       "..                ...  \n",
       "596                 0  \n",
       "597                 0  \n",
       "598                 0  \n",
       "599                 0  \n",
       "600                 1  \n",
       "\n",
       "[601 rows x 26 columns]"
      ],
      "text/html": "<div>\n<style scoped>\n    .dataframe tbody tr th:only-of-type {\n        vertical-align: middle;\n    }\n\n    .dataframe tbody tr th {\n        vertical-align: top;\n    }\n\n    .dataframe thead th {\n        text-align: right;\n    }\n</style>\n<table border=\"1\" class=\"dataframe\">\n  <thead>\n    <tr style=\"text-align: right;\">\n      <th></th>\n      <th>project_id</th>\n      <th>developer_id</th>\n      <th>district_id</th>\n      <th>project_name_th</th>\n      <th>project_name_en</th>\n      <th>unittype</th>\n      <th>province_id</th>\n      <th>lat</th>\n      <th>lon</th>\n      <th>project_land_rai</th>\n      <th>...</th>\n      <th>16H1</th>\n      <th>16H2</th>\n      <th>17H1</th>\n      <th>17H2</th>\n      <th>Bedroom</th>\n      <th>Bathroom</th>\n      <th>Price2020</th>\n      <th>project_status_0</th>\n      <th>project_status_1</th>\n      <th>project_status_2</th>\n    </tr>\n  </thead>\n  <tbody>\n    <tr>\n      <th>0</th>\n      <td>4570</td>\n      <td>2895</td>\n      <td>1014</td>\n      <td>อิสสระ @42 สุขุมวิท</td>\n      <td>Issara @ 42 Sukhumvit</td>\n      <td>3</td>\n      <td>10</td>\n      <td>13.79141</td>\n      <td>100.5488</td>\n      <td>3.6925</td>\n      <td>...</td>\n      <td>144022.0</td>\n      <td>145677.0</td>\n      <td>151650.0</td>\n      <td>152477.0</td>\n      <td>1.0</td>\n      <td>1.0</td>\n      <td>425000.0</td>\n      <td>0</td>\n      <td>1</td>\n      <td>0</td>\n    </tr>\n    <tr>\n      <th>1</th>\n      <td>2564</td>\n      <td>11572</td>\n      <td>1021</td>\n      <td>เดอะ ลิ้งค์ แอดวานซ์ สุขุมวิท 50</td>\n      <td>The Link Advance</td>\n      <td>3</td>\n      <td>10</td>\n      <td>13.65848</td>\n      <td>100.4285</td>\n      <td>16.4000</td>\n      <td>...</td>\n      <td>33352.0</td>\n      <td>33289.0</td>\n      <td>34637.0</td>\n      <td>38898.0</td>\n      <td>1.0</td>\n      <td>1.0</td>\n      <td>820000.0</td>\n      <td>1</td>\n      <td>0</td>\n      <td>0</td>\n    </tr>\n    <tr>\n      <th>2</th>\n      <td>2560</td>\n      <td>6032</td>\n      <td>1030</td>\n      <td>เอส คอนโดมิเนียม สุขุมวิท 50</td>\n      <td>S Condo Sukhumvit 50</td>\n      <td>3</td>\n      <td>10</td>\n      <td>13.82571</td>\n      <td>100.5453</td>\n      <td>7.5000</td>\n      <td>...</td>\n      <td>31210.0</td>\n      <td>33669.0</td>\n      <td>36639.0</td>\n      <td>34938.0</td>\n      <td>1.0</td>\n      <td>1.0</td>\n      <td>980000.0</td>\n      <td>1</td>\n      <td>0</td>\n      <td>0</td>\n    </tr>\n    <tr>\n      <th>3</th>\n      <td>1035</td>\n      <td>818</td>\n      <td>1022</td>\n      <td>เอ สเปซ มี สุขุมวิท 77</td>\n      <td>A Space Me Sukhumvit 77</td>\n      <td>3</td>\n      <td>10</td>\n      <td>13.70896</td>\n      <td>100.4517</td>\n      <td>26.4225</td>\n      <td>...</td>\n      <td>48656.0</td>\n      <td>46445.0</td>\n      <td>47015.0</td>\n      <td>44430.0</td>\n      <td>1.0</td>\n      <td>1.0</td>\n      <td>990000.0</td>\n      <td>0</td>\n      <td>1</td>\n      <td>0</td>\n    </tr>\n    <tr>\n      <th>4</th>\n      <td>4943</td>\n      <td>11066</td>\n      <td>1035</td>\n      <td>DLV Thonglor</td>\n      <td>DLV THONGLOR</td>\n      <td>3</td>\n      <td>10</td>\n      <td>13.67371</td>\n      <td>100.4586</td>\n      <td>9.5250</td>\n      <td>...</td>\n      <td>60588.0</td>\n      <td>55539.0</td>\n      <td>53325.0</td>\n      <td>53619.0</td>\n      <td>1.0</td>\n      <td>1.0</td>\n      <td>999900.0</td>\n      <td>1</td>\n      <td>0</td>\n      <td>0</td>\n    </tr>\n    <tr>\n      <th>...</th>\n      <td>...</td>\n      <td>...</td>\n      <td>...</td>\n      <td>...</td>\n      <td>...</td>\n      <td>...</td>\n      <td>...</td>\n      <td>...</td>\n      <td>...</td>\n      <td>...</td>\n      <td>...</td>\n      <td>...</td>\n      <td>...</td>\n      <td>...</td>\n      <td>...</td>\n      <td>...</td>\n      <td>...</td>\n      <td>...</td>\n      <td>...</td>\n      <td>...</td>\n      <td>...</td>\n    </tr>\n    <tr>\n      <th>596</th>\n      <td>5550</td>\n      <td>11515</td>\n      <td>1026</td>\n      <td>เอส เจ เรสซิเดนซ์ บางแวก 63</td>\n      <td>SJ Residence Bangwaek 63</td>\n      <td>3</td>\n      <td>10</td>\n      <td>13.75545</td>\n      <td>100.5648</td>\n      <td>1.6650</td>\n      <td>...</td>\n      <td>NaN</td>\n      <td>NaN</td>\n      <td>NaN</td>\n      <td>NaN</td>\n      <td>NaN</td>\n      <td>NaN</td>\n      <td>NaN</td>\n      <td>0</td>\n      <td>1</td>\n      <td>0</td>\n    </tr>\n    <tr>\n      <th>597</th>\n      <td>5582</td>\n      <td>20402</td>\n      <td>1039</td>\n      <td>เคนซิงตัน พหลฯ-เกษตร</td>\n      <td>Kensington Phahol-Kaset</td>\n      <td>3</td>\n      <td>10</td>\n      <td>13.74753</td>\n      <td>100.5583</td>\n      <td>1.2200</td>\n      <td>...</td>\n      <td>NaN</td>\n      <td>NaN</td>\n      <td>NaN</td>\n      <td>NaN</td>\n      <td>NaN</td>\n      <td>NaN</td>\n      <td>NaN</td>\n      <td>1</td>\n      <td>0</td>\n      <td>0</td>\n    </tr>\n    <tr>\n      <th>598</th>\n      <td>5612</td>\n      <td>137634</td>\n      <td>1017</td>\n      <td>แอชตัน สีลม</td>\n      <td>Ashton Silom</td>\n      <td>3</td>\n      <td>10</td>\n      <td>13.74845</td>\n      <td>100.5869</td>\n      <td>0.8100</td>\n      <td>...</td>\n      <td>NaN</td>\n      <td>NaN</td>\n      <td>NaN</td>\n      <td>NaN</td>\n      <td>NaN</td>\n      <td>NaN</td>\n      <td>NaN</td>\n      <td>1</td>\n      <td>0</td>\n      <td>0</td>\n    </tr>\n    <tr>\n      <th>599</th>\n      <td>5653</td>\n      <td>5618</td>\n      <td>1038</td>\n      <td>ไอดีโอ โมบิ บางซื่อ-แกรนด์ อินเตอร์เชนจ์</td>\n      <td>Ideo Mobi Bangsue-Grand Interchange</td>\n      <td>3</td>\n      <td>10</td>\n      <td>13.82645</td>\n      <td>100.5917</td>\n      <td>3.8375</td>\n      <td>...</td>\n      <td>NaN</td>\n      <td>NaN</td>\n      <td>NaN</td>\n      <td>NaN</td>\n      <td>NaN</td>\n      <td>NaN</td>\n      <td>NaN</td>\n      <td>1</td>\n      <td>0</td>\n      <td>0</td>\n    </tr>\n    <tr>\n      <th>600</th>\n      <td>5708</td>\n      <td>140565</td>\n      <td>1029</td>\n      <td>ฟินน์ อารีย์</td>\n      <td>Fynn Aree</td>\n      <td>3</td>\n      <td>10</td>\n      <td>13.83132</td>\n      <td>100.5249</td>\n      <td>4.5050</td>\n      <td>...</td>\n      <td>NaN</td>\n      <td>NaN</td>\n      <td>NaN</td>\n      <td>NaN</td>\n      <td>NaN</td>\n      <td>NaN</td>\n      <td>NaN</td>\n      <td>0</td>\n      <td>0</td>\n      <td>1</td>\n    </tr>\n  </tbody>\n</table>\n<p>601 rows × 26 columns</p>\n</div>"
     },
     "metadata": {},
     "execution_count": 76
    }
   ],
   "source": [
    "from sklearn.preprocessing import LabelEncoder\n",
    "LE = LabelEncoder()\n",
    "dataset['project_status'] = LE.fit_transform(dataset['project_status'])\n",
    "dataset = pandas.get_dummies(dataset, columns = ['project_status'])\n",
    "dataset"
   ]
  },
  {
   "cell_type": "code",
   "execution_count": 77,
   "metadata": {},
   "outputs": [
    {
     "output_type": "execute_result",
     "data": {
      "text/plain": [
       "project_id            0\n",
       "developer_id          0\n",
       "district_id           0\n",
       "project_name_th       0\n",
       "project_name_en       6\n",
       "unittype              0\n",
       "province_id           0\n",
       "lat                   0\n",
       "lon                   0\n",
       "project_land_rai      0\n",
       "total_unit           60\n",
       "starting_price        7\n",
       "created_at            0\n",
       "Unit                 65\n",
       "15H1                174\n",
       "15H2                165\n",
       "16H1                124\n",
       "16H2                 99\n",
       "17H1                 88\n",
       "17H2                 79\n",
       "Bedroom              67\n",
       "Bathroom             67\n",
       "Price2020            63\n",
       "project_status_0      0\n",
       "project_status_1      0\n",
       "project_status_2      0\n",
       "dtype: int64"
      ]
     },
     "metadata": {},
     "execution_count": 77
    }
   ],
   "source": [
    "dataset.isnull().sum()"
   ]
  },
  {
   "cell_type": "code",
   "execution_count": 78,
   "metadata": {},
   "outputs": [],
   "source": [
    "dataset['total_unit'].fillna(dataset['total_unit'].mean(), inplace = True)\n",
    "dataset['starting_price'].fillna(dataset['starting_price'].mean(), inplace = True)\n",
    "dataset['Unit'].fillna(dataset['Unit'].mean(), inplace = True)\n",
    "dataset['Bedroom'].fillna(dataset['Bedroom'].mean(), inplace = True)\n",
    "dataset['Bathroom'].fillna(dataset['Bathroom'].mean(), inplace = True)\n",
    "dataset['Price2020'].fillna(dataset['Price2020'].mean(), inplace = True)\n"
   ]
  },
  {
   "cell_type": "code",
   "execution_count": 79,
   "metadata": {},
   "outputs": [
    {
     "output_type": "execute_result",
     "data": {
      "text/plain": [
       "project_id            0\n",
       "developer_id          0\n",
       "district_id           0\n",
       "project_name_th       0\n",
       "project_name_en       6\n",
       "unittype              0\n",
       "province_id           0\n",
       "lat                   0\n",
       "lon                   0\n",
       "project_land_rai      0\n",
       "total_unit            0\n",
       "starting_price        0\n",
       "created_at            0\n",
       "Unit                  0\n",
       "15H1                174\n",
       "15H2                165\n",
       "16H1                124\n",
       "16H2                 99\n",
       "17H1                 88\n",
       "17H2                 79\n",
       "Bedroom               0\n",
       "Bathroom              0\n",
       "Price2020             0\n",
       "project_status_0      0\n",
       "project_status_1      0\n",
       "project_status_2      0\n",
       "dtype: int64"
      ]
     },
     "metadata": {},
     "execution_count": 79
    }
   ],
   "source": [
    "dataset.isnull().sum()"
   ]
  },
  {
   "cell_type": "code",
   "execution_count": 80,
   "metadata": {},
   "outputs": [
    {
     "output_type": "execute_result",
     "data": {
      "text/plain": [
       "     project_id  developer_id  district_id  \\\n",
       "596        5550         11515         1026   \n",
       "597        5582         20402         1039   \n",
       "598        5612        137634         1017   \n",
       "599        5653          5618         1038   \n",
       "600        5708        140565         1029   \n",
       "\n",
       "                              project_name_th  \\\n",
       "596               เอส เจ เรสซิเดนซ์ บางแวก 63   \n",
       "597                      เคนซิงตัน พหลฯ-เกษตร   \n",
       "598                               แอชตัน สีลม   \n",
       "599  ไอดีโอ โมบิ บางซื่อ-แกรนด์ อินเตอร์เชนจ์   \n",
       "600                              ฟินน์ อารีย์   \n",
       "\n",
       "                         project_name_en  unittype  province_id       lat  \\\n",
       "596             SJ Residence Bangwaek 63         3           10  13.75545   \n",
       "597              Kensington Phahol-Kaset         3           10  13.74753   \n",
       "598                         Ashton Silom         3           10  13.74845   \n",
       "599  Ideo Mobi Bangsue-Grand Interchange         3           10  13.82645   \n",
       "600                            Fynn Aree         3           10  13.83132   \n",
       "\n",
       "          lon  project_land_rai  ...  16H1  16H2  17H1  17H2   Bedroom  \\\n",
       "596  100.5648            1.6650  ...   NaN   NaN   NaN   NaN  1.061798   \n",
       "597  100.5583            1.2200  ...   NaN   NaN   NaN   NaN  1.061798   \n",
       "598  100.5869            0.8100  ...   NaN   NaN   NaN   NaN  1.061798   \n",
       "599  100.5917            3.8375  ...   NaN   NaN   NaN   NaN  1.061798   \n",
       "600  100.5249            4.5050  ...   NaN   NaN   NaN   NaN  1.061798   \n",
       "\n",
       "     Bathroom     Price2020  project_status_0  project_status_1  \\\n",
       "596  1.065543  5.007288e+06                 0                 1   \n",
       "597  1.065543  5.007288e+06                 1                 0   \n",
       "598  1.065543  5.007288e+06                 1                 0   \n",
       "599  1.065543  5.007288e+06                 1                 0   \n",
       "600  1.065543  5.007288e+06                 0                 0   \n",
       "\n",
       "     project_status_2  \n",
       "596                 0  \n",
       "597                 0  \n",
       "598                 0  \n",
       "599                 0  \n",
       "600                 1  \n",
       "\n",
       "[5 rows x 26 columns]"
      ],
      "text/html": "<div>\n<style scoped>\n    .dataframe tbody tr th:only-of-type {\n        vertical-align: middle;\n    }\n\n    .dataframe tbody tr th {\n        vertical-align: top;\n    }\n\n    .dataframe thead th {\n        text-align: right;\n    }\n</style>\n<table border=\"1\" class=\"dataframe\">\n  <thead>\n    <tr style=\"text-align: right;\">\n      <th></th>\n      <th>project_id</th>\n      <th>developer_id</th>\n      <th>district_id</th>\n      <th>project_name_th</th>\n      <th>project_name_en</th>\n      <th>unittype</th>\n      <th>province_id</th>\n      <th>lat</th>\n      <th>lon</th>\n      <th>project_land_rai</th>\n      <th>...</th>\n      <th>16H1</th>\n      <th>16H2</th>\n      <th>17H1</th>\n      <th>17H2</th>\n      <th>Bedroom</th>\n      <th>Bathroom</th>\n      <th>Price2020</th>\n      <th>project_status_0</th>\n      <th>project_status_1</th>\n      <th>project_status_2</th>\n    </tr>\n  </thead>\n  <tbody>\n    <tr>\n      <th>596</th>\n      <td>5550</td>\n      <td>11515</td>\n      <td>1026</td>\n      <td>เอส เจ เรสซิเดนซ์ บางแวก 63</td>\n      <td>SJ Residence Bangwaek 63</td>\n      <td>3</td>\n      <td>10</td>\n      <td>13.75545</td>\n      <td>100.5648</td>\n      <td>1.6650</td>\n      <td>...</td>\n      <td>NaN</td>\n      <td>NaN</td>\n      <td>NaN</td>\n      <td>NaN</td>\n      <td>1.061798</td>\n      <td>1.065543</td>\n      <td>5.007288e+06</td>\n      <td>0</td>\n      <td>1</td>\n      <td>0</td>\n    </tr>\n    <tr>\n      <th>597</th>\n      <td>5582</td>\n      <td>20402</td>\n      <td>1039</td>\n      <td>เคนซิงตัน พหลฯ-เกษตร</td>\n      <td>Kensington Phahol-Kaset</td>\n      <td>3</td>\n      <td>10</td>\n      <td>13.74753</td>\n      <td>100.5583</td>\n      <td>1.2200</td>\n      <td>...</td>\n      <td>NaN</td>\n      <td>NaN</td>\n      <td>NaN</td>\n      <td>NaN</td>\n      <td>1.061798</td>\n      <td>1.065543</td>\n      <td>5.007288e+06</td>\n      <td>1</td>\n      <td>0</td>\n      <td>0</td>\n    </tr>\n    <tr>\n      <th>598</th>\n      <td>5612</td>\n      <td>137634</td>\n      <td>1017</td>\n      <td>แอชตัน สีลม</td>\n      <td>Ashton Silom</td>\n      <td>3</td>\n      <td>10</td>\n      <td>13.74845</td>\n      <td>100.5869</td>\n      <td>0.8100</td>\n      <td>...</td>\n      <td>NaN</td>\n      <td>NaN</td>\n      <td>NaN</td>\n      <td>NaN</td>\n      <td>1.061798</td>\n      <td>1.065543</td>\n      <td>5.007288e+06</td>\n      <td>1</td>\n      <td>0</td>\n      <td>0</td>\n    </tr>\n    <tr>\n      <th>599</th>\n      <td>5653</td>\n      <td>5618</td>\n      <td>1038</td>\n      <td>ไอดีโอ โมบิ บางซื่อ-แกรนด์ อินเตอร์เชนจ์</td>\n      <td>Ideo Mobi Bangsue-Grand Interchange</td>\n      <td>3</td>\n      <td>10</td>\n      <td>13.82645</td>\n      <td>100.5917</td>\n      <td>3.8375</td>\n      <td>...</td>\n      <td>NaN</td>\n      <td>NaN</td>\n      <td>NaN</td>\n      <td>NaN</td>\n      <td>1.061798</td>\n      <td>1.065543</td>\n      <td>5.007288e+06</td>\n      <td>1</td>\n      <td>0</td>\n      <td>0</td>\n    </tr>\n    <tr>\n      <th>600</th>\n      <td>5708</td>\n      <td>140565</td>\n      <td>1029</td>\n      <td>ฟินน์ อารีย์</td>\n      <td>Fynn Aree</td>\n      <td>3</td>\n      <td>10</td>\n      <td>13.83132</td>\n      <td>100.5249</td>\n      <td>4.5050</td>\n      <td>...</td>\n      <td>NaN</td>\n      <td>NaN</td>\n      <td>NaN</td>\n      <td>NaN</td>\n      <td>1.061798</td>\n      <td>1.065543</td>\n      <td>5.007288e+06</td>\n      <td>0</td>\n      <td>0</td>\n      <td>1</td>\n    </tr>\n  </tbody>\n</table>\n<p>5 rows × 26 columns</p>\n</div>"
     },
     "metadata": {},
     "execution_count": 80
    }
   ],
   "source": [
    "dataset.tail()"
   ]
  },
  {
   "cell_type": "code",
   "execution_count": 81,
   "metadata": {},
   "outputs": [
    {
     "output_type": "execute_result",
     "data": {
      "text/plain": [
       "   developer_id  district_id       lat       lon  project_land_rai  \\\n",
       "0          2895         1014  13.79141  100.5488            3.6925   \n",
       "1         11572         1021  13.65848  100.4285           16.4000   \n",
       "2          6032         1030  13.82571  100.5453            7.5000   \n",
       "3           818         1022  13.70896  100.4517           26.4225   \n",
       "4         11066         1035  13.67371  100.4586            9.5250   \n",
       "\n",
       "   total_unit  starting_price  created_at  Unit  Bedroom  Bathroom  Price2020  \\\n",
       "0       620.0       2900000.0        2014  31.0      1.0       1.0   425000.0   \n",
       "1      2048.0        990000.0        2011  24.0      1.0       1.0   820000.0   \n",
       "2      1031.0        750000.0        2011  31.0      1.0       1.0   980000.0   \n",
       "3       735.0       1590000.0        2011  31.0      1.0       1.0   990000.0   \n",
       "4       681.0       1950000.0        2014  23.0      1.0       1.0   999900.0   \n",
       "\n",
       "   project_status_0  project_status_1  project_status_2  \n",
       "0                 0                 1                 0  \n",
       "1                 1                 0                 0  \n",
       "2                 1                 0                 0  \n",
       "3                 0                 1                 0  \n",
       "4                 1                 0                 0  "
      ],
      "text/html": "<div>\n<style scoped>\n    .dataframe tbody tr th:only-of-type {\n        vertical-align: middle;\n    }\n\n    .dataframe tbody tr th {\n        vertical-align: top;\n    }\n\n    .dataframe thead th {\n        text-align: right;\n    }\n</style>\n<table border=\"1\" class=\"dataframe\">\n  <thead>\n    <tr style=\"text-align: right;\">\n      <th></th>\n      <th>developer_id</th>\n      <th>district_id</th>\n      <th>lat</th>\n      <th>lon</th>\n      <th>project_land_rai</th>\n      <th>total_unit</th>\n      <th>starting_price</th>\n      <th>created_at</th>\n      <th>Unit</th>\n      <th>Bedroom</th>\n      <th>Bathroom</th>\n      <th>Price2020</th>\n      <th>project_status_0</th>\n      <th>project_status_1</th>\n      <th>project_status_2</th>\n    </tr>\n  </thead>\n  <tbody>\n    <tr>\n      <th>0</th>\n      <td>2895</td>\n      <td>1014</td>\n      <td>13.79141</td>\n      <td>100.5488</td>\n      <td>3.6925</td>\n      <td>620.0</td>\n      <td>2900000.0</td>\n      <td>2014</td>\n      <td>31.0</td>\n      <td>1.0</td>\n      <td>1.0</td>\n      <td>425000.0</td>\n      <td>0</td>\n      <td>1</td>\n      <td>0</td>\n    </tr>\n    <tr>\n      <th>1</th>\n      <td>11572</td>\n      <td>1021</td>\n      <td>13.65848</td>\n      <td>100.4285</td>\n      <td>16.4000</td>\n      <td>2048.0</td>\n      <td>990000.0</td>\n      <td>2011</td>\n      <td>24.0</td>\n      <td>1.0</td>\n      <td>1.0</td>\n      <td>820000.0</td>\n      <td>1</td>\n      <td>0</td>\n      <td>0</td>\n    </tr>\n    <tr>\n      <th>2</th>\n      <td>6032</td>\n      <td>1030</td>\n      <td>13.82571</td>\n      <td>100.5453</td>\n      <td>7.5000</td>\n      <td>1031.0</td>\n      <td>750000.0</td>\n      <td>2011</td>\n      <td>31.0</td>\n      <td>1.0</td>\n      <td>1.0</td>\n      <td>980000.0</td>\n      <td>1</td>\n      <td>0</td>\n      <td>0</td>\n    </tr>\n    <tr>\n      <th>3</th>\n      <td>818</td>\n      <td>1022</td>\n      <td>13.70896</td>\n      <td>100.4517</td>\n      <td>26.4225</td>\n      <td>735.0</td>\n      <td>1590000.0</td>\n      <td>2011</td>\n      <td>31.0</td>\n      <td>1.0</td>\n      <td>1.0</td>\n      <td>990000.0</td>\n      <td>0</td>\n      <td>1</td>\n      <td>0</td>\n    </tr>\n    <tr>\n      <th>4</th>\n      <td>11066</td>\n      <td>1035</td>\n      <td>13.67371</td>\n      <td>100.4586</td>\n      <td>9.5250</td>\n      <td>681.0</td>\n      <td>1950000.0</td>\n      <td>2014</td>\n      <td>23.0</td>\n      <td>1.0</td>\n      <td>1.0</td>\n      <td>999900.0</td>\n      <td>1</td>\n      <td>0</td>\n      <td>0</td>\n    </tr>\n  </tbody>\n</table>\n</div>"
     },
     "metadata": {},
     "execution_count": 81
    }
   ],
   "source": [
    "dataset.drop('unittype', axis=1, inplace=True)\n",
    "dataset.drop('province_id', axis=1, inplace=True)\n",
    "dataset.drop('project_id', axis=1, inplace=True)\n",
    "dataset.drop('project_name_th', axis=1, inplace=True)\n",
    "dataset.drop('project_name_en', axis=1, inplace=True)\n",
    "dataset.drop('15H1', axis=1, inplace=True)\n",
    "dataset.drop('15H2', axis=1, inplace=True)\n",
    "dataset.drop('16H1', axis=1, inplace=True)\n",
    "dataset.drop('16H2', axis=1, inplace=True)\n",
    "dataset.drop('17H1', axis=1, inplace=True)\n",
    "dataset.drop('17H2', axis=1, inplace=True)\n",
    "dataset.head()"
   ]
  },
  {
   "cell_type": "code",
   "execution_count": 82,
   "metadata": {},
   "outputs": [],
   "source": [
    "features = dataset.drop('Price2020' , axis=1)\n",
    "labels = dataset['Price2020'].values"
   ]
  },
  {
   "cell_type": "code",
   "execution_count": 83,
   "metadata": {},
   "outputs": [],
   "source": [
    "from sklearn.model_selection import train_test_split\n",
    "\n",
    "X_train, X_test, y_train, y_test = train_test_split  \\\n",
    "(features, labels, test_size=0.2, random_state=1) "
   ]
  },
  {
   "cell_type": "code",
   "execution_count": 84,
   "metadata": {},
   "outputs": [],
   "source": [
    "from sklearn.neighbors import KNeighborsRegressor\n",
    "KNR = KNeighborsRegressor(3)\n",
    "KNR.fit(X_train,y_train)\n",
    "y_pred1 = KNR.predict(X_test)"
   ]
  },
  {
   "cell_type": "code",
   "execution_count": 85,
   "metadata": {},
   "outputs": [
    {
     "output_type": "stream",
     "name": "stdout",
     "text": [
      "0.4372353097953724\n3559297.810316267\n"
     ]
    }
   ],
   "source": [
    "from sklearn.metrics import r2_score\n",
    "from sklearn.metrics import mean_squared_error\n",
    "print(r2_score(y_test,y_pred1))\n",
    "print(mean_squared_error(y_test,y_pred1,squared=False))"
   ]
  },
  {
   "cell_type": "code",
   "execution_count": 86,
   "metadata": {},
   "outputs": [],
   "source": [
    "from sklearn.tree import DecisionTreeRegressor\n",
    "DTR = DecisionTreeRegressor()\n",
    "DTR.fit(X_train,y_train)\n",
    "y_pred2 = DTR.predict(X_test)\n"
   ]
  },
  {
   "cell_type": "code",
   "execution_count": 87,
   "metadata": {},
   "outputs": [
    {
     "output_type": "stream",
     "name": "stdout",
     "text": [
      "0.2695837130133497\n4054955.863769228\n"
     ]
    }
   ],
   "source": [
    "print(r2_score(y_test,y_pred2))\n",
    "print(mean_squared_error(y_test,y_pred2,squared=False))"
   ]
  },
  {
   "cell_type": "code",
   "execution_count": 88,
   "metadata": {},
   "outputs": [],
   "source": [
    "from sklearn.tree import ExtraTreeRegressor\n",
    "extra_tree = ExtraTreeRegressor()\n",
    "extra_tree.fit(X_train, y_train)\n",
    "y_pred3=extra_tree.predict(X_test)"
   ]
  },
  {
   "cell_type": "code",
   "execution_count": 89,
   "metadata": {},
   "outputs": [
    {
     "output_type": "stream",
     "name": "stdout",
     "text": [
      "0.37209748718525615\n3759646.5459899623\n"
     ]
    }
   ],
   "source": [
    "print(r2_score(y_test,y_pred3))\n",
    "print(mean_squared_error(y_test,y_pred3,squared=False))"
   ]
  },
  {
   "cell_type": "code",
   "execution_count": 51,
   "metadata": {},
   "outputs": [],
   "source": []
  },
  {
   "cell_type": "code",
   "execution_count": 90,
   "metadata": {},
   "outputs": [],
   "source": [
    "with open('model.plk','rb') as f:\n",
    "    model = pickle.load(f)\n",
    "@app.get(\"/\")\n",
    "async def main():\n",
    "    return 'Deploy Model'\n"
   ]
  },
  {
   "cell_type": "code",
   "execution_count": 97,
   "metadata": {},
   "outputs": [],
   "source": [
    "@app.get(\"/predict\")\n",
    "async def create_item(developer_id,distric_id,lat,lon,project_land_rai, project_status,total_unit,starting_price,created_at,Unit ) :\n",
    "    instant = [[developer_id,distric_id,lat,lon,project_land_rai, project_status,total_unit,starting_price,created_at,Unit]]\n",
    "    result = model.predict(instant)[0]  \n",
    "    return {\"forecast_condo\":int(result)}"
   ]
  },
  {
   "cell_type": "code",
   "execution_count": 98,
   "metadata": {},
   "outputs": [
    {
     "output_type": "error",
     "ename": "RuntimeError",
     "evalue": "This event loop is already running",
     "traceback": [
      "\u001b[1;31m---------------------------------------------------------------------------\u001b[0m",
      "\u001b[1;31mRuntimeError\u001b[0m                              Traceback (most recent call last)",
      "\u001b[1;32m<ipython-input-98-5d8371fb2fa5>\u001b[0m in \u001b[0;36m<module>\u001b[1;34m\u001b[0m\n\u001b[0;32m      1\u001b[0m \u001b[1;32mif\u001b[0m \u001b[0m__name__\u001b[0m \u001b[1;33m==\u001b[0m \u001b[1;34m'__main__'\u001b[0m\u001b[1;33m:\u001b[0m\u001b[1;33m\u001b[0m\u001b[1;33m\u001b[0m\u001b[0m\n\u001b[0;32m      2\u001b[0m     \u001b[1;32mimport\u001b[0m \u001b[0muvicorn\u001b[0m\u001b[1;33m\u001b[0m\u001b[1;33m\u001b[0m\u001b[0m\n\u001b[1;32m----> 3\u001b[1;33m     \u001b[0muvicorn\u001b[0m\u001b[1;33m.\u001b[0m\u001b[0mrun\u001b[0m\u001b[1;33m(\u001b[0m\u001b[0mapp\u001b[0m\u001b[1;33m,\u001b[0m \u001b[0mhost\u001b[0m\u001b[1;33m=\u001b[0m\u001b[1;34m\"0.0.0.0\"\u001b[0m\u001b[1;33m,\u001b[0m \u001b[0mport\u001b[0m\u001b[1;33m=\u001b[0m\u001b[1;36m5000\u001b[0m\u001b[1;33m,\u001b[0m \u001b[0mdebug\u001b[0m\u001b[1;33m=\u001b[0m\u001b[1;32mTrue\u001b[0m\u001b[1;33m)\u001b[0m\u001b[1;33m\u001b[0m\u001b[1;33m\u001b[0m\u001b[0m\n\u001b[0m",
      "\u001b[1;32m~\\miniconda3\\envs\\AIML\\lib\\site-packages\\uvicorn\\main.py\u001b[0m in \u001b[0;36mrun\u001b[1;34m(app, **kwargs)\u001b[0m\n\u001b[0;32m    389\u001b[0m         \u001b[0msupervisor\u001b[0m\u001b[1;33m.\u001b[0m\u001b[0mrun\u001b[0m\u001b[1;33m(\u001b[0m\u001b[1;33m)\u001b[0m\u001b[1;33m\u001b[0m\u001b[1;33m\u001b[0m\u001b[0m\n\u001b[0;32m    390\u001b[0m     \u001b[1;32melse\u001b[0m\u001b[1;33m:\u001b[0m\u001b[1;33m\u001b[0m\u001b[1;33m\u001b[0m\u001b[0m\n\u001b[1;32m--> 391\u001b[1;33m         \u001b[0mserver\u001b[0m\u001b[1;33m.\u001b[0m\u001b[0mrun\u001b[0m\u001b[1;33m(\u001b[0m\u001b[1;33m)\u001b[0m\u001b[1;33m\u001b[0m\u001b[1;33m\u001b[0m\u001b[0m\n\u001b[0m\u001b[0;32m    392\u001b[0m \u001b[1;33m\u001b[0m\u001b[0m\n\u001b[0;32m    393\u001b[0m \u001b[1;33m\u001b[0m\u001b[0m\n",
      "\u001b[1;32m~\\miniconda3\\envs\\AIML\\lib\\site-packages\\uvicorn\\main.py\u001b[0m in \u001b[0;36mrun\u001b[1;34m(self, sockets)\u001b[0m\n\u001b[0;32m    417\u001b[0m         \u001b[0mself\u001b[0m\u001b[1;33m.\u001b[0m\u001b[0mconfig\u001b[0m\u001b[1;33m.\u001b[0m\u001b[0msetup_event_loop\u001b[0m\u001b[1;33m(\u001b[0m\u001b[1;33m)\u001b[0m\u001b[1;33m\u001b[0m\u001b[1;33m\u001b[0m\u001b[0m\n\u001b[0;32m    418\u001b[0m         \u001b[0mloop\u001b[0m \u001b[1;33m=\u001b[0m \u001b[0masyncio\u001b[0m\u001b[1;33m.\u001b[0m\u001b[0mget_event_loop\u001b[0m\u001b[1;33m(\u001b[0m\u001b[1;33m)\u001b[0m\u001b[1;33m\u001b[0m\u001b[1;33m\u001b[0m\u001b[0m\n\u001b[1;32m--> 419\u001b[1;33m         \u001b[0mloop\u001b[0m\u001b[1;33m.\u001b[0m\u001b[0mrun_until_complete\u001b[0m\u001b[1;33m(\u001b[0m\u001b[0mself\u001b[0m\u001b[1;33m.\u001b[0m\u001b[0mserve\u001b[0m\u001b[1;33m(\u001b[0m\u001b[0msockets\u001b[0m\u001b[1;33m=\u001b[0m\u001b[0msockets\u001b[0m\u001b[1;33m)\u001b[0m\u001b[1;33m)\u001b[0m\u001b[1;33m\u001b[0m\u001b[1;33m\u001b[0m\u001b[0m\n\u001b[0m\u001b[0;32m    420\u001b[0m \u001b[1;33m\u001b[0m\u001b[0m\n\u001b[0;32m    421\u001b[0m     \u001b[1;32masync\u001b[0m \u001b[1;32mdef\u001b[0m \u001b[0mserve\u001b[0m\u001b[1;33m(\u001b[0m\u001b[0mself\u001b[0m\u001b[1;33m,\u001b[0m \u001b[0msockets\u001b[0m\u001b[1;33m=\u001b[0m\u001b[1;32mNone\u001b[0m\u001b[1;33m)\u001b[0m\u001b[1;33m:\u001b[0m\u001b[1;33m\u001b[0m\u001b[1;33m\u001b[0m\u001b[0m\n",
      "\u001b[1;32m~\\miniconda3\\envs\\AIML\\lib\\asyncio\\base_events.py\u001b[0m in \u001b[0;36mrun_until_complete\u001b[1;34m(self, future)\u001b[0m\n\u001b[0;32m    561\u001b[0m         \"\"\"\n\u001b[0;32m    562\u001b[0m         \u001b[0mself\u001b[0m\u001b[1;33m.\u001b[0m\u001b[0m_check_closed\u001b[0m\u001b[1;33m(\u001b[0m\u001b[1;33m)\u001b[0m\u001b[1;33m\u001b[0m\u001b[1;33m\u001b[0m\u001b[0m\n\u001b[1;32m--> 563\u001b[1;33m         \u001b[0mself\u001b[0m\u001b[1;33m.\u001b[0m\u001b[0m_check_runnung\u001b[0m\u001b[1;33m(\u001b[0m\u001b[1;33m)\u001b[0m\u001b[1;33m\u001b[0m\u001b[1;33m\u001b[0m\u001b[0m\n\u001b[0m\u001b[0;32m    564\u001b[0m \u001b[1;33m\u001b[0m\u001b[0m\n\u001b[0;32m    565\u001b[0m         \u001b[0mnew_task\u001b[0m \u001b[1;33m=\u001b[0m \u001b[1;32mnot\u001b[0m \u001b[0mfutures\u001b[0m\u001b[1;33m.\u001b[0m\u001b[0misfuture\u001b[0m\u001b[1;33m(\u001b[0m\u001b[0mfuture\u001b[0m\u001b[1;33m)\u001b[0m\u001b[1;33m\u001b[0m\u001b[1;33m\u001b[0m\u001b[0m\n",
      "\u001b[1;32m~\\miniconda3\\envs\\AIML\\lib\\asyncio\\base_events.py\u001b[0m in \u001b[0;36m_check_runnung\u001b[1;34m(self)\u001b[0m\n\u001b[0;32m    521\u001b[0m     \u001b[1;32mdef\u001b[0m \u001b[0m_check_runnung\u001b[0m\u001b[1;33m(\u001b[0m\u001b[0mself\u001b[0m\u001b[1;33m)\u001b[0m\u001b[1;33m:\u001b[0m\u001b[1;33m\u001b[0m\u001b[1;33m\u001b[0m\u001b[0m\n\u001b[0;32m    522\u001b[0m         \u001b[1;32mif\u001b[0m \u001b[0mself\u001b[0m\u001b[1;33m.\u001b[0m\u001b[0mis_running\u001b[0m\u001b[1;33m(\u001b[0m\u001b[1;33m)\u001b[0m\u001b[1;33m:\u001b[0m\u001b[1;33m\u001b[0m\u001b[1;33m\u001b[0m\u001b[0m\n\u001b[1;32m--> 523\u001b[1;33m             \u001b[1;32mraise\u001b[0m \u001b[0mRuntimeError\u001b[0m\u001b[1;33m(\u001b[0m\u001b[1;34m'This event loop is already running'\u001b[0m\u001b[1;33m)\u001b[0m\u001b[1;33m\u001b[0m\u001b[1;33m\u001b[0m\u001b[0m\n\u001b[0m\u001b[0;32m    524\u001b[0m         \u001b[1;32mif\u001b[0m \u001b[0mevents\u001b[0m\u001b[1;33m.\u001b[0m\u001b[0m_get_running_loop\u001b[0m\u001b[1;33m(\u001b[0m\u001b[1;33m)\u001b[0m \u001b[1;32mis\u001b[0m \u001b[1;32mnot\u001b[0m \u001b[1;32mNone\u001b[0m\u001b[1;33m:\u001b[0m\u001b[1;33m\u001b[0m\u001b[1;33m\u001b[0m\u001b[0m\n\u001b[0;32m    525\u001b[0m             raise RuntimeError(\n",
      "\u001b[1;31mRuntimeError\u001b[0m: This event loop is already running"
     ]
    }
   ],
   "source": []
  },
  {
   "cell_type": "code",
   "execution_count": null,
   "metadata": {},
   "outputs": [],
   "source": []
  }
 ],
 "metadata": {
  "kernelspec": {
   "display_name": "Python 3",
   "language": "python",
   "name": "python3"
  },
  "language_info": {
   "codemirror_mode": {
    "name": "ipython",
    "version": 3
   },
   "file_extension": ".py",
   "mimetype": "text/x-python",
   "name": "python",
   "nbconvert_exporter": "python",
   "pygments_lexer": "ipython3",
   "version": "3.7.9-final"
  }
 },
 "nbformat": 4,
 "nbformat_minor": 4
}